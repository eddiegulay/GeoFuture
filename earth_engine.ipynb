{
 "cells": [
  {
   "cell_type": "code",
   "execution_count": null,
   "metadata": {},
   "outputs": [],
   "source": [
    "# !pip install earthengine-api"
   ]
  },
  {
   "cell_type": "code",
   "execution_count": 2,
   "metadata": {},
   "outputs": [],
   "source": [
    "import ee\n",
    "import numpy as np"
   ]
  },
  {
   "cell_type": "code",
   "execution_count": 7,
   "metadata": {},
   "outputs": [
    {
     "data": {
      "text/html": [
       "<p>To authorize access needed by Earth Engine, open the following\n",
       "        URL in a web browser and follow the instructions:</p>\n",
       "        <p><a href=https://code.earthengine.google.com/client-auth?scopes=https%3A//www.googleapis.com/auth/earthengine%20https%3A//www.googleapis.com/auth/devstorage.full_control&request_id=fRywbCBi1BOYqOB2nIZ4s40X0R0Wo1lsiATl0NgY7mw&tc=w4yx5diBnZtU-TSg7-2840PiL_M-bViwZCoGR_CZ1-s&cc=Ju0-azxFuJHww3cYgo1JvsGMr9WN1vah4xrDIMIKykg>https://code.earthengine.google.com/client-auth?scopes=https%3A//www.googleapis.com/auth/earthengine%20https%3A//www.googleapis.com/auth/devstorage.full_control&request_id=fRywbCBi1BOYqOB2nIZ4s40X0R0Wo1lsiATl0NgY7mw&tc=w4yx5diBnZtU-TSg7-2840PiL_M-bViwZCoGR_CZ1-s&cc=Ju0-azxFuJHww3cYgo1JvsGMr9WN1vah4xrDIMIKykg</a></p>\n",
       "        <p>The authorization workflow will generate a code, which you should paste in the box below.</p>\n",
       "        "
      ],
      "text/plain": [
       "<IPython.core.display.HTML object>"
      ]
     },
     "metadata": {},
     "output_type": "display_data"
    },
    {
     "name": "stdout",
     "output_type": "stream",
     "text": [
      "\n",
      "Successfully saved authorization token.\n"
     ]
    }
   ],
   "source": [
    "# Authenticate to Earth Engine.\n",
    "ee.Authenticate()"
   ]
  },
  {
   "cell_type": "code",
   "execution_count": 8,
   "metadata": {},
   "outputs": [
    {
     "ename": "EEException",
     "evalue": "Not signed up for Earth Engine or project is not registered. Visit https://developers.google.com/earth-engine/guides/access",
     "output_type": "error",
     "traceback": [
      "\u001b[1;31m---------------------------------------------------------------------------\u001b[0m",
      "\u001b[1;31mHttpError\u001b[0m                                 Traceback (most recent call last)",
      "File \u001b[1;32mc:\\Users\\Edgar\\AppData\\Local\\Programs\\Python\\Python311\\Lib\\site-packages\\ee\\data.py:354\u001b[0m, in \u001b[0;36m_execute_cloud_call\u001b[1;34m(call, num_retries)\u001b[0m\n\u001b[0;32m    353\u001b[0m \u001b[39mtry\u001b[39;00m:\n\u001b[1;32m--> 354\u001b[0m   \u001b[39mreturn\u001b[39;00m call\u001b[39m.\u001b[39;49mexecute(num_retries\u001b[39m=\u001b[39;49mnum_retries)\n\u001b[0;32m    355\u001b[0m \u001b[39mexcept\u001b[39;00m googleapiclient\u001b[39m.\u001b[39merrors\u001b[39m.\u001b[39mHttpError \u001b[39mas\u001b[39;00m e:\n",
      "File \u001b[1;32mc:\\Users\\Edgar\\AppData\\Local\\Programs\\Python\\Python311\\Lib\\site-packages\\googleapiclient\\_helpers.py:130\u001b[0m, in \u001b[0;36mpositional.<locals>.positional_decorator.<locals>.positional_wrapper\u001b[1;34m(*args, **kwargs)\u001b[0m\n\u001b[0;32m    129\u001b[0m         logger\u001b[39m.\u001b[39mwarning(message)\n\u001b[1;32m--> 130\u001b[0m \u001b[39mreturn\u001b[39;00m wrapped(\u001b[39m*\u001b[39;49margs, \u001b[39m*\u001b[39;49m\u001b[39m*\u001b[39;49mkwargs)\n",
      "File \u001b[1;32mc:\\Users\\Edgar\\AppData\\Local\\Programs\\Python\\Python311\\Lib\\site-packages\\googleapiclient\\http.py:938\u001b[0m, in \u001b[0;36mHttpRequest.execute\u001b[1;34m(self, http, num_retries)\u001b[0m\n\u001b[0;32m    937\u001b[0m \u001b[39mif\u001b[39;00m resp\u001b[39m.\u001b[39mstatus \u001b[39m>\u001b[39m\u001b[39m=\u001b[39m \u001b[39m300\u001b[39m:\n\u001b[1;32m--> 938\u001b[0m     \u001b[39mraise\u001b[39;00m HttpError(resp, content, uri\u001b[39m=\u001b[39m\u001b[39mself\u001b[39m\u001b[39m.\u001b[39muri)\n\u001b[0;32m    939\u001b[0m \u001b[39mreturn\u001b[39;00m \u001b[39mself\u001b[39m\u001b[39m.\u001b[39mpostproc(resp, content)\n",
      "\u001b[1;31mHttpError\u001b[0m: <HttpError 403 when requesting https://earthengine.googleapis.com/v1/projects/earthengine-legacy/algorithms?prettyPrint=false&alt=json returned \"Not signed up for Earth Engine or project is not registered. Visit https://developers.google.com/earth-engine/guides/access\". Details: \"Not signed up for Earth Engine or project is not registered. Visit https://developers.google.com/earth-engine/guides/access\">",
      "\nDuring handling of the above exception, another exception occurred:\n",
      "\u001b[1;31mEEException\u001b[0m                               Traceback (most recent call last)",
      "\u001b[1;32mc:\\Users\\Edgar\\Documents\\GeoFuture\\earth_engine.ipynb Cell 4\u001b[0m line \u001b[0;36m1\n\u001b[1;32m----> <a href='vscode-notebook-cell:/c%3A/Users/Edgar/Documents/GeoFuture/earth_engine.ipynb#W5sZmlsZQ%3D%3D?line=0'>1</a>\u001b[0m ee\u001b[39m.\u001b[39;49mInitialize()\n",
      "File \u001b[1;32mc:\\Users\\Edgar\\AppData\\Local\\Programs\\Python\\Python311\\Lib\\site-packages\\ee\\__init__.py:145\u001b[0m, in \u001b[0;36mInitialize\u001b[1;34m(credentials, opt_url, cloud_api_key, http_transport, project)\u001b[0m\n\u001b[0;32m    135\u001b[0m data\u001b[39m.\u001b[39minitialize(\n\u001b[0;32m    136\u001b[0m     credentials\u001b[39m=\u001b[39mcredentials,\n\u001b[0;32m    137\u001b[0m     api_base_url\u001b[39m=\u001b[39m(opt_url \u001b[39m+\u001b[39m \u001b[39m'\u001b[39m\u001b[39m/api\u001b[39m\u001b[39m'\u001b[39m \u001b[39mif\u001b[39;00m opt_url \u001b[39melse\u001b[39;00m \u001b[39mNone\u001b[39;00m),\n\u001b[1;32m   (...)\u001b[0m\n\u001b[0;32m    141\u001b[0m     project\u001b[39m=\u001b[39mproject,\n\u001b[0;32m    142\u001b[0m     http_transport\u001b[39m=\u001b[39mhttp_transport)\n\u001b[0;32m    144\u001b[0m \u001b[39m# Initialize the dynamically loaded functions on the objects that want them.\u001b[39;00m\n\u001b[1;32m--> 145\u001b[0m ApiFunction\u001b[39m.\u001b[39;49minitialize()\n\u001b[0;32m    146\u001b[0m Collection\u001b[39m.\u001b[39minitialize()\n\u001b[0;32m    147\u001b[0m Date\u001b[39m.\u001b[39minitialize()\n",
      "File \u001b[1;32mc:\\Users\\Edgar\\AppData\\Local\\Programs\\Python\\Python311\\Lib\\site-packages\\ee\\apifunction.py:160\u001b[0m, in \u001b[0;36mApiFunction.initialize\u001b[1;34m(cls)\u001b[0m\n\u001b[0;32m    158\u001b[0m \u001b[39m\u001b[39m\u001b[39m\"\"\"Initializes the list of signatures from the Earth Engine front-end.\"\"\"\u001b[39;00m\n\u001b[0;32m    159\u001b[0m \u001b[39mif\u001b[39;00m \u001b[39mnot\u001b[39;00m \u001b[39mcls\u001b[39m\u001b[39m.\u001b[39m_api:\n\u001b[1;32m--> 160\u001b[0m   signatures \u001b[39m=\u001b[39m data\u001b[39m.\u001b[39;49mgetAlgorithms()\n\u001b[0;32m    161\u001b[0m   api \u001b[39m=\u001b[39m {}\n\u001b[0;32m    162\u001b[0m   \u001b[39mfor\u001b[39;00m name, sig \u001b[39min\u001b[39;00m signatures\u001b[39m.\u001b[39mitems():\n\u001b[0;32m    163\u001b[0m     \u001b[39m# Strip type parameters.\u001b[39;00m\n",
      "File \u001b[1;32mc:\\Users\\Edgar\\AppData\\Local\\Programs\\Python\\Python311\\Lib\\site-packages\\ee\\data.py:1388\u001b[0m, in \u001b[0;36mgetAlgorithms\u001b[1;34m()\u001b[0m\n\u001b[0;32m   1383\u001b[0m     \u001b[39mprint\u001b[39m(\n\u001b[0;32m   1384\u001b[0m         \u001b[39m'\u001b[39m\u001b[39m*** Earth Engine ***\u001b[39m\u001b[39m'\u001b[39m,\n\u001b[0;32m   1385\u001b[0m         response[_INIT_MESSAGE_HEADER],\n\u001b[0;32m   1386\u001b[0m         file\u001b[39m=\u001b[39msys\u001b[39m.\u001b[39mstderr)\n\u001b[0;32m   1387\u001b[0m call\u001b[39m.\u001b[39madd_response_callback(inspect)\n\u001b[1;32m-> 1388\u001b[0m \u001b[39mreturn\u001b[39;00m _cloud_api_utils\u001b[39m.\u001b[39mconvert_algorithms(_execute_cloud_call(call))\n",
      "File \u001b[1;32mc:\\Users\\Edgar\\AppData\\Local\\Programs\\Python\\Python311\\Lib\\site-packages\\ee\\data.py:356\u001b[0m, in \u001b[0;36m_execute_cloud_call\u001b[1;34m(call, num_retries)\u001b[0m\n\u001b[0;32m    354\u001b[0m   \u001b[39mreturn\u001b[39;00m call\u001b[39m.\u001b[39mexecute(num_retries\u001b[39m=\u001b[39mnum_retries)\n\u001b[0;32m    355\u001b[0m \u001b[39mexcept\u001b[39;00m googleapiclient\u001b[39m.\u001b[39merrors\u001b[39m.\u001b[39mHttpError \u001b[39mas\u001b[39;00m e:\n\u001b[1;32m--> 356\u001b[0m   \u001b[39mraise\u001b[39;00m _translate_cloud_exception(e)\n",
      "\u001b[1;31mEEException\u001b[0m: Not signed up for Earth Engine or project is not registered. Visit https://developers.google.com/earth-engine/guides/access"
     ]
    }
   ],
   "source": [
    "ee.Initialize()"
   ]
  },
  {
   "cell_type": "code",
   "execution_count": null,
   "metadata": {},
   "outputs": [],
   "source": [
    "# Load Landsat data.\n",
    "landsat = ee.ImageCollection(\"LANDSAT/LC08/C01/T1_SR\")"
   ]
  },
  {
   "cell_type": "code",
   "execution_count": null,
   "metadata": {},
   "outputs": [],
   "source": []
  }
 ],
 "metadata": {
  "kernelspec": {
   "display_name": "Python 3",
   "language": "python",
   "name": "python3"
  },
  "language_info": {
   "codemirror_mode": {
    "name": "ipython",
    "version": 3
   },
   "file_extension": ".py",
   "mimetype": "text/x-python",
   "name": "python",
   "nbconvert_exporter": "python",
   "pygments_lexer": "ipython3",
   "version": "3.11.4"
  },
  "orig_nbformat": 4
 },
 "nbformat": 4,
 "nbformat_minor": 2
}
